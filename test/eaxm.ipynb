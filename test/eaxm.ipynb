{
 "cells": [
  {
   "cell_type": "markdown",
   "id": "3cb3ddfc",
   "metadata": {},
   "source": [
    "### 本文档用于辅助理解项目各组成部分如何使用以及相关参数解释"
   ]
  },
  {
   "cell_type": "code",
   "execution_count": null,
   "id": "10f2e01c",
   "metadata": {},
   "outputs": [],
   "source": [
    "import asyncio, os\n",
    "from oxygent import MAS, oxy,Config\n",
    "Config.set_agent_llm_model(\"qwen\")  # 设置默认的 llm 模型\n",
    "LLM_MODEL = \"qwen\"  # Or any llm you can call"
   ]
  },
  {
   "cell_type": "markdown",
   "id": "d3f923a0",
   "metadata": {},
   "source": [
    "#### 工具定义"
   ]
  },
  {
   "cell_type": "code",
   "execution_count": null,
   "id": "5525b84f",
   "metadata": {},
   "outputs": [],
   "source": [
    "file_tools = oxy.StdioMCPClient(\n",
    "    name=\"文件管理系统\",\n",
    "    params={\n",
    "        \"command\": \"npx\",\n",
    "        \"args\": [\"-y\", \"@modelcontextprotocol/server-filesystem\", \"./data\"],## 使用npx启动 MCP 文件系统服务，数据目录为 ./data\n",
    "    },\n",
    ")\n",
    "## 示例\n",
    "oxy_my_tools = oxy.StdioMCPClient(  \n",
    "name=\"my_tools\",\n",
    "    params={\n",
    "        \"command\": \"uv\", \n",
    "        \"args\": [\"--directory\", \"./mcp_servers\", \"run\", \"my_tools.py\"], ## 启动一个 MCP 工具服务，它通过运行 uv --directory ./mcp_servers run my_tools.py 启动。\n",
    "    },##启动后，agent就可以调用该工具的一些方法\n",
    ") "
   ]
  },
  {
   "cell_type": "markdown",
   "id": "b010c6e9",
   "metadata": {},
   "source": [
    "#### agent定义"
   ]
  },
  {
   "cell_type": "code",
   "execution_count": null,
   "id": "87b0d32d",
   "metadata": {},
   "outputs": [],
   "source": [
    "# 定义一个具有工具调用能力的 ReAct（Reason + Act）智能体，\n",
    "# 用于根据问题推理并调用工具获取信息（如路径成本）。\n",
    "tool_cost_agent = oxy.ReActAgent(\n",
    "    name=\"tool_cost_agent\",  \n",
    "    # 智能体的名称，用于在多智能体系统中识别和调用。\n",
    "    \n",
    "    desc=\"The agent search the cost of path\",\n",
    "    # 描述该智能体的功能，帮助其他智能体或系统理解其用途。\n",
    "    # 此处说明它用于查询路径的成本。\n",
    "    \n",
    "    tools=[\"my_tools/get_cost\"],  \n",
    "    # 指定该智能体可以使用的工具列表。\n",
    "    # \"my_tools/get_cost\" 是一个自定义工具（通常在 oxy 工具注册系统中定义），\n",
    "    # 用于根据输入（如起点、终点）返回路径成本。\n",
    "    # 注意：工具名需与 oxy 中注册的工具名称一致。\n",
    "    \n",
    "    llm_model=LLM_MODEL,\n",
    "    # 指定该智能体使用的底层大语言模型（如 \"gpt-4\", \"claude-3\", 或本地模型）。\n",
    "    # LLM_MODEL 应已在代码其他地方定义，例如 LLM_MODEL = \"gpt-4o\"\n",
    ")\n",
    "\n",
    "# 定义一个专门用于生成计划（plan）的聊天智能体。\n",
    "planner = oxy.ChatAgent(\n",
    "    name=\"planner\",\n",
    "    # 智能体名称。\n",
    "\n",
    "    llm_model=LLM_MODEL,\n",
    "    # 使用的 LLM 模型。\n",
    "\n",
    "    prompt=(\n",
    "        \"You are a planning agent.  \"\n",
    "        \"Output **only** a JSON object that matches this schema:\\n\" \n",
    "        '{\"steps\": [\"step 1\", \"step 2\", ...]}\\n'\n",
    "    ),\n",
    "    # 系统提示（system prompt），严格约束输出格式。\n",
    "    # 要求该智能体只输出符合指定 JSON Schema 的对象，\n",
    "    # 例如：{\"steps\": [\"查询起点到终点的路径\", \"获取该路径的成本\", \"输出总成本\"]}\n",
    "    # 这种强格式约束便于后续程序解析。\n",
    ")\n",
    "\n",
    "# 定义一个“计划-执行”型智能体（Plan-and-Solve Agent），\n",
    "# 它会先调用 planner 生成计划，再调用 executor 执行计划中的每一步。\n",
    "analyser = oxy.PlanAndSolveAgent(\n",
    "    name=\"analyser\",\n",
    "    # 智能体名称。\n",
    "\n",
    "    llm_model=LLM_MODEL,\n",
    "    # 使用的 LLM 模型（虽然 planner 和 executor 可能已有自己的模型，但此处可能用于协调或重试逻辑）。\n",
    "\n",
    "    planner_agent_name=planner.name, \n",
    "    # 指定用于生成计划的 planner 智能体名称（即上面定义的 \"planner\"）。\n",
    "    # PlanAndSolveAgent 会在内部调用该 planner 来获取步骤列表。\n",
    "\n",
    "    executor_agent_name=executor.name,\n",
    "    # 指定用于执行计划中每一步的 executor 智能体名称。\n",
    "    # 注意：代码中未定义 executor，但应已存在，例如一个能调用 tool_cost_agent 的执行器。\n",
    "    # executor 通常负责将 plan 中的自然语言步骤转化为具体动作（如调用工具）。\n",
    "\n",
    "    pydantic_parser_planner=plan_parser,\n",
    "    # 用于解析 planner 输出的 Pydantic 模型。\n",
    "    # plan_parser 应是一个继承自 pydantic.BaseModel 的类，例如：\n",
    "    #   class Plan(BaseModel):\n",
    "    #       steps: List[str]\n",
    "    # 这确保 planner 的输出被严格验证并转换为结构化对象。\n",
    "\n",
    "    pydantic_parser_replanner=action_parser,\n",
    "    # 用于在启用重规划（replanning）时解析新动作的 Pydantic 模型。\n",
    "    # 即使当前未启用重规划，也可能需要提供（取决于框架实现）。\n",
    "\n",
    "    enable_replanner=False,\n",
    "    # 是否启用“重规划”机制。\n",
    "    # 若为 True，当执行某步失败时，会调用 replanner 生成修正后的步骤。\n",
    "    # 此处设为 False，表示执行失败时不会自动重规划，可能直接报错或停止。\n",
    ")"
   ]
  }
 ],
 "metadata": {
  "kernelspec": {
   "display_name": "datamining",
   "language": "python",
   "name": "python3"
  },
  "language_info": {
   "name": "python",
   "version": "3.12.11"
  }
 },
 "nbformat": 4,
 "nbformat_minor": 5
}
