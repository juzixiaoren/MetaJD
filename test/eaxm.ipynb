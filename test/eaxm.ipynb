{
 "cells": [
  {
   "cell_type": "markdown",
   "id": "3cb3ddfc",
   "metadata": {},
   "source": [
    "### 本文档用于辅助理解项目各组成部分如何使用以及相关参数解释"
   ]
  },
  {
   "cell_type": "code",
   "execution_count": null,
   "id": "10f2e01c",
   "metadata": {},
   "outputs": [],
   "source": [
    "import asyncio, os\n",
    "from oxygent import MAS, oxy,Config\n",
    "Config.set_agent_llm_model(\"qwen\")  # 设置默认的 llm 模型\n",
    "LLM_MODEL = \"qwen\"  # Or any llm you can call"
   ]
  },
  {
   "cell_type": "markdown",
   "id": "d3f923a0",
   "metadata": {},
   "source": [
    "#### 工具定义"
   ]
  },
  {
   "cell_type": "code",
   "execution_count": null,
   "id": "5525b84f",
   "metadata": {},
   "outputs": [],
   "source": [
    "file_tools = oxy.StdioMCPClient(\n",
    "    name=\"文件管理系统\",\n",
    "    params={\n",
    "        \"command\": \"npx\",\n",
    "        \"args\": [\"-y\", \"@modelcontextprotocol/server-filesystem\", \"./data\"],## 使用npx启动 MCP 文件系统服务，数据目录为 ./data\n",
    "    },\n",
    ")\n",
    "## 示例\n",
    "oxy_my_tools = oxy.StdioMCPClient(  \n",
    "name=\"my_tools\",\n",
    "    params={\n",
    "        \"command\": \"uv\", \n",
    "        \"args\": [\"--directory\", \"./mcp_servers\", \"run\", \"my_tools.py\"], ## 启动一个 MCP 工具服务，它通过运行 uv --directory ./mcp_servers run my_tools.py 启动。\n",
    "    },##启动后，agent就可以调用该工具的一些方法\n",
    ") "
   ]
  },
  {
   "cell_type": "markdown",
   "id": "b010c6e9",
   "metadata": {},
   "source": [
    "#### agent定义"
   ]
  },
  {
   "cell_type": "code",
   "execution_count": null,
   "id": "87b0d32d",
   "metadata": {},
   "outputs": [],
   "source": [
    "# 定义一个具有工具调用能力的 ReAct（Reason + Act）智能体，\n",
    "# 用于根据问题推理并调用工具获取信息（如路径成本）。\n",
    "tool_cost_agent = oxy.ReActAgent(\n",
    "    name=\"tool_cost_agent\",  \n",
    "    # 智能体的名称，用于在多智能体系统中识别和调用。\n",
    "    \n",
    "    desc=\"The agent search the cost of path\",\n",
    "    # 描述该智能体的功能，帮助其他智能体或系统理解其用途。\n",
    "    # 此处说明它用于查询路径的成本。\n",
    "    \n",
    "    tools=[\"my_tools/get_cost\"],  \n",
    "    # 指定该智能体可以使用的工具列表。\n",
    "    # \"my_tools/get_cost\" 是一个自定义工具（通常在 oxy 工具注册系统中定义），\n",
    "    # 用于根据输入（如起点、终点）返回路径成本。\n",
    "    # 注意：工具名需与 oxy 中注册的工具名称一致。\n",
    "    \n",
    "    llm_model=LLM_MODEL,\n",
    "    # 指定该智能体使用的底层大语言模型（如 \"gpt-4\", \"claude-3\", 或本地模型）。\n",
    "    # LLM_MODEL 应已在代码其他地方定义，例如 LLM_MODEL = \"gpt-4o\"\n",
    ")\n",
    "\n",
    "# 定义一个专门用于生成计划（plan）的聊天智能体。\n",
    "planner = oxy.ChatAgent(\n",
    "    name=\"planner\",\n",
    "    # 智能体名称。\n",
    "\n",
    "    llm_model=LLM_MODEL,\n",
    "    # 使用的 LLM 模型。\n",
    "\n",
    "    prompt=(\n",
    "        \"You are a planning agent.  \"\n",
    "        \"Output **only** a JSON object that matches this schema:\\n\" \n",
    "        '{\"steps\": [\"step 1\", \"step 2\", ...]}\\n'\n",
    "    ),\n",
    "    # 系统提示（system prompt），严格约束输出格式。\n",
    "    # 要求该智能体只输出符合指定 JSON Schema 的对象，\n",
    "    # 例如：{\"steps\": [\"查询起点到终点的路径\", \"获取该路径的成本\", \"输出总成本\"]}\n",
    "    # 这种强格式约束便于后续程序解析。\n",
    ")\n",
    "\n",
    "# 定义一个“计划-执行”型智能体（Plan-and-Solve Agent），\n",
    "# 它会先调用 planner 生成计划，再调用 executor 执行计划中的每一步。\n",
    "analyser = oxy.PlanAndSolveAgent(\n",
    "    name=\"analyser\",\n",
    "    # 智能体名称。\n",
    "\n",
    "    llm_model=LLM_MODEL,\n",
    "    # 使用的 LLM 模型（虽然 planner 和 executor 可能已有自己的模型，但此处可能用于协调或重试逻辑）。\n",
    "\n",
    "    planner_agent_name=planner.name, \n",
    "    # 指定用于生成计划的 planner 智能体名称（即上面定义的 \"planner\"）。\n",
    "    # PlanAndSolveAgent 会在内部调用该 planner 来获取步骤列表。\n",
    "\n",
    "    executor_agent_name=executor.name,\n",
    "    # 指定用于执行计划中每一步的 executor 智能体名称。\n",
    "    # 注意：代码中未定义 executor，但应已存在，例如一个能调用 tool_cost_agent 的执行器。\n",
    "    # executor 通常负责将 plan 中的自然语言步骤转化为具体动作（如调用工具）。\n",
    "\n",
    "    pydantic_parser_planner=plan_parser,\n",
    "    # 用于解析 planner 输出的 Pydantic 模型。\n",
    "    # plan_parser 应是一个继承自 pydantic.BaseModel 的类，例如：\n",
    "    #   class Plan(BaseModel):\n",
    "    #       steps: List[str]\n",
    "    # 这确保 planner 的输出被严格验证并转换为结构化对象。\n",
    "\n",
    "    pydantic_parser_replanner=action_parser,\n",
    "    # 用于在启用重规划（replanning）时解析新动作的 Pydantic 模型。\n",
    "    # 即使当前未启用重规划，也可能需要提供（取决于框架实现）。\n",
    "\n",
    "    enable_replanner=False,\n",
    "    # 是否启用“重规划”机制。\n",
    "    # 若为 True，当执行某步失败时，会调用 replanner 生成修正后的步骤。\n",
    "    # 此处设为 False，表示执行失败时不会自动重规划，可能直接报错或停止。\n",
    ")"
   ]
  },
  {
   "cell_type": "code",
   "execution_count": 2,
   "id": "99a6696a",
   "metadata": {},
   "outputs": [
    {
     "name": "stdout",
     "output_type": "stream",
     "text": [
      "['FunctionHub', '__all__', '__builtins__', '__cached__', '__doc__', '__file__', '__loader__', '__name__', '__package__', '__path__', '__spec__', 'attr_name', 'attr_value', 'baidu_search_tools', 'error_msg', 'file_tools', 'function_hub_instances', 'http_tools', 'importlib', 'math_tools', 'missing_package', 'module', 'module_name', 'module_path', 'os', 'package_dir', 'python_tools', 'shell_tools', 'string_tools', 'system_tools', 'time_tools', 'tool_modules']\n"
     ]
    }
   ],
   "source": [
    "from oxygent import preset_tools\n",
    "print(dir(preset_tools))"
   ]
  },
  {
   "cell_type": "markdown",
   "id": "fdf7fa00",
   "metadata": {},
   "source": [
    "预设的工具：'FunctionHub', '__all__', '__builtins__', '__cached__', '__doc__', '__file__', '__loader__', '__name__', '__package__', '__path__', '__spec__', 'attr_name', 'attr_value', 'baidu_search_tools', 'error_msg', 'file_tools', 'function_hub_instances', 'http_tools', 'importlib', 'math_tools', 'missing_package', 'module', 'module_name', 'module_path', 'os', 'package_dir', 'python_tools', 'shell_tools', 'string_tools', 'system_tools', 'time_tools', 'tool_modules'"
   ]
  },
  {
   "cell_type": "markdown",
   "id": "bf5ce656",
   "metadata": {},
   "source": [
    "#### baidu_search_tools可用于通过百度来搜索获取相关内容\n",
    "#### file_tools支持对文件进行建删读写操作,但是必须指定文件路径，他无法列出某文件夹下面的文件\n",
    "#### http_tools可以获取网页的元素，也可以用http发送post或者get请求\n",
    "#### math_tools用于求解数学问题\n",
    "#### python_tools 用于执行python代码(无法直接读取和保存),返回某个具体变量的值，如果没设置则返回执行状态\n",
    "#### shell_tools 执行一条shell命令\n",
    "#### sql_tools是一个用于安全访问数据库的工具集，支持列出表名、查看表结构、执行 SQL 查询，基于 SQLAlchemy 连接，通过环境变量配置数据库连接。(暂时没有)\n",
    "#### system_tools 是一个用于 系统监控与环境检测 的工具集（FunctionHub），非常实用，主要帮助 agent 了解当前运行环境的系统信息与资源状态。\n",
    "#### train_ticket_tools 是一个 火车票查询与车站信息工具集，基于 12306 官方数据源，能帮助智能体完成从自然语言提问 → 城市解析 → 车票查询的一整套操作#(暂时也没有？)"
   ]
  },
  {
   "cell_type": "code",
   "execution_count": 1,
   "id": "5391395d",
   "metadata": {},
   "outputs": [
    {
     "ename": "NameError",
     "evalue": "name 'oxy' is not defined",
     "output_type": "error",
     "traceback": [
      "\u001b[31m---------------------------------------------------------------------------\u001b[39m",
      "\u001b[31mNameError\u001b[39m                                 Traceback (most recent call last)",
      "\u001b[36mCell\u001b[39m\u001b[36m \u001b[39m\u001b[32mIn[1]\u001b[39m\u001b[32m, line 1\u001b[39m\n\u001b[32m----> \u001b[39m\u001b[32m1\u001b[39m planner_agent = \u001b[43moxy\u001b[49m.ReActAgent(\n\u001b[32m      2\u001b[39m     name=\u001b[33m\"\u001b[39m\u001b[33mplanner_agent\u001b[39m\u001b[33m\"\u001b[39m,\n\u001b[32m      3\u001b[39m     desc=\u001b[33m\"\u001b[39m\u001b[33mFor complex, multi-step tasks. Decomposes the task into a sequence of steps and calls other agents to execute them.\u001b[39m\u001b[33m\"\u001b[39m,\n\u001b[32m      4\u001b[39m     llm_model=LLM_MODEL,\n\u001b[32m      5\u001b[39m     prompt=\u001b[33m\"\"\"\u001b[39m\n\u001b[32m      6\u001b[39m \u001b[33m    You are a planner. Your job is to break down a complex user query into a series of simple, executable steps.\u001b[39m\n\u001b[32m      7\u001b[39m \u001b[33m    Each step must be a call to one of the available tools.\u001b[39m\n\u001b[32m      8\u001b[39m \u001b[33m    Analyze the user\u001b[39m\u001b[33m'\u001b[39m\u001b[33ms query and output a JSON array of tool calls.\u001b[39m\n\u001b[32m      9\u001b[39m \n\u001b[32m     10\u001b[39m \u001b[33m    Available agents/tools: baidu_search_agent, file_agent, shell_agent, python_agent, math_agent, http_agent ...\u001b[39m\n\u001b[32m     11\u001b[39m \n\u001b[32m     12\u001b[39m \u001b[33m    Example Query: \u001b[39m\u001b[33m\"\u001b[39m\u001b[33m搜索珠穆朗玛峰的高度，并将其写入 height.txt\u001b[39m\u001b[33m\"\u001b[39m\n\u001b[32m     13\u001b[39m \u001b[33m    Output Plan:\u001b[39m\n\u001b[32m     14\u001b[39m \u001b[33m    [\u001b[39m\n\u001b[32m     15\u001b[39m \u001b[33m        \u001b[39m\u001b[33m{\u001b[39m\u001b[33m\"\u001b[39m\u001b[33mtool_name\u001b[39m\u001b[33m\"\u001b[39m\u001b[33m: \u001b[39m\u001b[33m\"\u001b[39m\u001b[33mbaidu_search_agent\u001b[39m\u001b[33m\"\u001b[39m\u001b[33m, \u001b[39m\u001b[33m\"\u001b[39m\u001b[33marguments\u001b[39m\u001b[33m\"\u001b[39m\u001b[33m: \u001b[39m\u001b[33m{\u001b[39m\u001b[33m\"\u001b[39m\u001b[33mquery\u001b[39m\u001b[33m\"\u001b[39m\u001b[33m: \u001b[39m\u001b[33m\"\u001b[39m\u001b[33m珠穆朗玛峰的高度\u001b[39m\u001b[33m\"\u001b[39m\u001b[33m}},\u001b[39m\n\u001b[32m     16\u001b[39m \u001b[33m        \u001b[39m\u001b[33m{\u001b[39m\u001b[33m\"\u001b[39m\u001b[33mtool_name\u001b[39m\u001b[33m\"\u001b[39m\u001b[33m: \u001b[39m\u001b[33m\"\u001b[39m\u001b[33mfile_agent\u001b[39m\u001b[33m\"\u001b[39m\u001b[33m, \u001b[39m\u001b[33m\"\u001b[39m\u001b[33marguments\u001b[39m\u001b[33m\"\u001b[39m\u001b[33m: \u001b[39m\u001b[33m{\u001b[39m\u001b[33m\"\u001b[39m\u001b[33mtool_name\u001b[39m\u001b[33m\"\u001b[39m\u001b[33m: \u001b[39m\u001b[33m\"\u001b[39m\u001b[33mwrite\u001b[39m\u001b[33m\"\u001b[39m\u001b[33m, \u001b[39m\u001b[33m\"\u001b[39m\u001b[33margs\u001b[39m\u001b[33m\"\u001b[39m\u001b[33m: \u001b[39m\u001b[33m{\u001b[39m\u001b[33m\"\u001b[39m\u001b[33mpath\u001b[39m\u001b[33m\"\u001b[39m\u001b[33m: \u001b[39m\u001b[33m\"\u001b[39m\u001b[33mheight.txt\u001b[39m\u001b[33m\"\u001b[39m\u001b[33m, \u001b[39m\u001b[33m\"\u001b[39m\u001b[33mcontent\u001b[39m\u001b[33m\"\u001b[39m\u001b[33m: \u001b[39m\u001b[33m\"\u001b[39m\u001b[33m<output_of_step_1>\u001b[39m\u001b[33m\"\u001b[39m\u001b[33m}}}\u001b[39m\n\u001b[32m     17\u001b[39m \u001b[33m    ]\u001b[39m\n\u001b[32m     18\u001b[39m \u001b[33m    \u001b[39m\u001b[33m\"\"\"\u001b[39m.strip(),\n\u001b[32m     19\u001b[39m     \u001b[38;5;66;03m# Planner 需要能调用所有执行类的 agent\u001b[39;00m\n\u001b[32m     20\u001b[39m     sub_agents=[\n\u001b[32m     21\u001b[39m         \u001b[33m\"\u001b[39m\u001b[33mbaidu_search_agent\u001b[39m\u001b[33m\"\u001b[39m,\n\u001b[32m     22\u001b[39m         \u001b[33m\"\u001b[39m\u001b[33mhttp_agent\u001b[39m\u001b[33m\"\u001b[39m,\n\u001b[32m     23\u001b[39m         \u001b[33m\"\u001b[39m\u001b[33mfile_agent\u001b[39m\u001b[33m\"\u001b[39m,\n\u001b[32m     24\u001b[39m         \u001b[33m\"\u001b[39m\u001b[33msystem_check_agent\u001b[39m\u001b[33m\"\u001b[39m,\n\u001b[32m     25\u001b[39m         \u001b[33m\"\u001b[39m\u001b[33mpython_agent\u001b[39m\u001b[33m\"\u001b[39m,\n\u001b[32m     26\u001b[39m         \u001b[33m\"\u001b[39m\u001b[33mshell_agent\u001b[39m\u001b[33m\"\u001b[39m,\n\u001b[32m     27\u001b[39m         \u001b[33m\"\u001b[39m\u001b[33mmath_agent\u001b[39m\u001b[33m\"\u001b[39m,\n\u001b[32m     28\u001b[39m         \u001b[33m\"\u001b[39m\u001b[33mstring_agent\u001b[39m\u001b[33m\"\u001b[39m\n\u001b[32m     29\u001b[39m     ]\n\u001b[32m     30\u001b[39m )\n",
      "\u001b[31mNameError\u001b[39m: name 'oxy' is not defined"
     ]
    }
   ],
   "source": [
    "planner_agent = oxy.ReActAgent(\n",
    "    name=\"planner_agent\",\n",
    "    desc=\"For complex, multi-step tasks. Decomposes the task into a sequence of steps and calls other agents to execute them.\",\n",
    "    llm_model=LLM_MODEL,\n",
    "    prompt=\"\"\"\n",
    "    You are a planner. Your job is to break down a complex user query into a series of simple, executable steps.\n",
    "    Each step must be a call to one of the available tools.\n",
    "    Analyze the user's query and output a JSON array of tool calls.\n",
    "    \n",
    "    Available agents/tools: baidu_search_agent, file_agent, shell_agent, python_agent, math_agent, http_agent ...\n",
    "    \n",
    "    Example Query: \"搜索珠穆朗玛峰的高度，并将其写入 height.txt\"\n",
    "    Output Plan:\n",
    "    [\n",
    "        {\"tool_name\": \"baidu_search_agent\", \"arguments\": {\"query\": \"珠穆朗玛峰的高度\"}},\n",
    "        {\"tool_name\": \"file_agent\", \"arguments\": {\"tool_name\": \"write\", \"args\": {\"path\": \"height.txt\", \"content\": \"<output_of_step_1>\"}}}\n",
    "    ]\n",
    "    \"\"\".strip(),\n",
    "    # Planner 需要能调用所有执行类的 agent\n",
    "    sub_agents=[\n",
    "        \"baidu_search_agent\",\n",
    "        \"http_agent\",\n",
    "        \"file_agent\",\n",
    "        \"system_check_agent\",\n",
    "        \"python_agent\",\n",
    "        \"shell_agent\",\n",
    "        \"math_agent\",\n",
    "        \"string_agent\"\n",
    "    ]\n",
    ")"
   ]
  },
  {
   "cell_type": "code",
   "execution_count": null,
   "id": "0efd8914",
   "metadata": {},
   "outputs": [],
   "source": [
    "###存代码"
   ]
  }
 ],
 "metadata": {
  "kernelspec": {
   "display_name": "datamining",
   "language": "python",
   "name": "python3"
  },
  "language_info": {
   "codemirror_mode": {
    "name": "ipython",
    "version": 3
   },
   "file_extension": ".py",
   "mimetype": "text/x-python",
   "name": "python",
   "nbconvert_exporter": "python",
   "pygments_lexer": "ipython3",
   "version": "3.12.11"
  }
 },
 "nbformat": 4,
 "nbformat_minor": 5
}
